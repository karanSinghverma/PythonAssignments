{
 "cells": [
  {
   "cell_type": "code",
   "execution_count": 9,
   "metadata": {},
   "outputs": [
    {
     "name": "stdout",
     "output_type": "stream",
     "text": [
      "LCM of  24 and 36  is 72\n"
     ]
    }
   ],
   "source": [
    "### 1. Write a Python Program to Find LCM?\n",
    "x=int(input(\"Enter the first number: \"))\n",
    "y=int(input(\"Enter the second number: \"))\n",
    "def lcm(p,q):\n",
    "    for i in range(q,p*x):\n",
    "        if(i%p==0 and i%q==0):\n",
    "            break\n",
    "    print(\"LCM of \",p,\"and\",q,\" is\",i)\n",
    "lcm(x,y)    \n",
    "\n",
    "# input-->24,36\n"
   ]
  },
  {
   "cell_type": "code",
   "execution_count": 10,
   "metadata": {},
   "outputs": [
    {
     "name": "stdout",
     "output_type": "stream",
     "text": [
      "LCM of  4 and 6  is 4\n"
     ]
    }
   ],
   "source": [
    "### 2. Write a Python Program to Find HCF?\n",
    "\n",
    "x=int(input(\"Enter the first number: \"))\n",
    "y=int(input(\"Enter the second number: \"))\n",
    "def hcf(p,q):\n",
    "    for i in range(1,p+1):\n",
    "        if(i%p==0 and i%q==0):\n",
    "            break\n",
    "    print(\"LCM of \",p,\"and\",q,\" is\",i)\n",
    "hcf(x,y) \n",
    "\n",
    "# input--> 4,6"
   ]
  },
  {
   "cell_type": "code",
   "execution_count": 15,
   "metadata": {},
   "outputs": [
    {
     "name": "stdout",
     "output_type": "stream",
     "text": [
      "Result of number is: \n",
      "0b1010 In Binary: \n",
      "0o12 In Octal: \n",
      "0xa In hexadecimal: \n"
     ]
    }
   ],
   "source": [
    "### 3. Write a Python Program to Convert Decimal to Binary, Octal and Hexadecimal?\n",
    "\n",
    "number=int(input(\"Enter any number you want to convert: \"))\n",
    "def convert(x):\n",
    "    print(\"Result of number is: \")\n",
    "    print(bin(x),\"In Binary: \")\n",
    "    print(oct(x),\"In Octal: \")\n",
    "    print(hex(x),\"In hexadecimal: \")\n",
    "convert(number)    \n",
    "\n",
    "# input -->10"
   ]
  },
  {
   "cell_type": "code",
   "execution_count": 23,
   "metadata": {},
   "outputs": [
    {
     "name": "stdout",
     "output_type": "stream",
     "text": [
      "The ASCII value of  7  is 55\n"
     ]
    }
   ],
   "source": [
    "### 4. Write a Python Program To Find ASCII value of a character?\n",
    "cha = input(\"Enter any character to know its ASCII value: \")\n",
    "def asc(p):\n",
    "    print(\"The ASCII value of \",p,\" is\",ord(p))\n",
    "asc(cha)    "
   ]
  },
  {
   "cell_type": "code",
   "execution_count": null,
   "metadata": {},
   "outputs": [],
   "source": [
    "### 5. Write a Python Program to Make a Simple Calculator with 4 basic mathematical operations?\n",
    "print(\" Select Operations to perform: \")\n",
    "print(\"1: ADDITION\")\n",
    "print(\"2: SUBTRACTION\")\n",
    "print(\"3: MULTIPLICATION\")\n",
    "print(\"4: DIVISION\")\n",
    "choice=int(input())\n",
    "if choice==1:\n",
    "    x=int(input(\"Enter First Number: \"))\n",
    "    y=int(input(\"Enter Second Number: \"))\n",
    "    print(\"Addition of Numbers is: \", x+y)\n",
    "elif choice==2:\n",
    "    x=int(input(\"Enter First Number: \"))\n",
    "    y=int(input(\"Enter Second Number: \"))\n",
    "    print(\"Subtraction of Numbers is: \", x-y)  \n",
    "elif choice==3:\n",
    "    x=int(input(\"Enter First Number: \"))\n",
    "    y=int(input(\"Enter Second Number: \"))\n",
    "    print(\"Multiplication of numbers is: \",x*y)\n",
    "elif choice==4:\n",
    "    x=int(input(\"Enter First Number: \"))\n",
    "    y=int(input(\"Enter Second Number: \"))\n",
    "    print(\"Division of Numbers is: \", x/y) \n"
   ]
  }
 ],
 "metadata": {
  "kernelspec": {
   "display_name": "Python 3.10.7 64-bit",
   "language": "python",
   "name": "python3"
  },
  "language_info": {
   "codemirror_mode": {
    "name": "ipython",
    "version": 3
   },
   "file_extension": ".py",
   "mimetype": "text/x-python",
   "name": "python",
   "nbconvert_exporter": "python",
   "pygments_lexer": "ipython3",
   "version": "3.10.7"
  },
  "orig_nbformat": 4,
  "vscode": {
   "interpreter": {
    "hash": "0d72b21489300652f2337cd7f80c57cc00ce6bbc92cf98d285c178d0a8ced433"
   }
  }
 },
 "nbformat": 4,
 "nbformat_minor": 2
}
