{
 "cells": [
  {
   "cell_type": "code",
   "execution_count": 19,
   "metadata": {},
   "outputs": [
    {
     "name": "stdout",
     "output_type": "stream",
     "text": [
      "[1 2 3 4 5 6]\n",
      "Sum of array element is: 21\n"
     ]
    }
   ],
   "source": [
    "### 1. Write a Python Program to find sum of array?\n",
    "def _sum(arr):\n",
    "    sum=0\n",
    "    for i in arr:\n",
    "        sum=sum+i\n",
    "    return sum\n",
    "arr=np.array([1,2,3,4,5,6])\n",
    "print(arr)   \n",
    "print(\"Sum of array element is:\",_sum(arr))"
   ]
  },
  {
   "cell_type": "code",
   "execution_count": 30,
   "metadata": {},
   "outputs": [
    {
     "name": "stdout",
     "output_type": "stream",
     "text": [
      "Largest element is: 6\n"
     ]
    }
   ],
   "source": [
    "### 2. Write a Python Program to find largest element in an array?\n",
    "def _arr(arr,n):\n",
    "    x=arr[0]\n",
    "    for i in range(1,n):\n",
    "        if(arr[i]>x):\n",
    "            x=arr[i]    \n",
    "    return x\n",
    "arr=np.array([1,2,3,4,5,6])\n",
    "n=len(arr)\n",
    "print(\"Largest element is:\",_arr(arr,n))"
   ]
  },
  {
   "cell_type": "code",
   "execution_count": 7,
   "metadata": {},
   "outputs": [
    {
     "name": "stdout",
     "output_type": "stream",
     "text": [
      "Array befpore Rotate: [1, 3, 5, 7, 9, 11, 13, 15]\n",
      "Array after Rotation by 4 elements is:  [9, 11, 13, 15, 1, 3, 5, 7]\n"
     ]
    }
   ],
   "source": [
    "### 3. Write a Python Program for array rotation?\n",
    "\n",
    "def rotate_array1(arry, K, E):  \n",
    "    temp_1 = []  \n",
    "    J = 0  \n",
    "    while (J < E):  \n",
    "        temp_1.append(arry[J])  \n",
    "        J = J + 1  \n",
    "    J = 0  \n",
    "    while (E < K):  \n",
    "        arry[J] = arry[E]  \n",
    "        J = J + 1  \n",
    "        E = E + 1  \n",
    "    arry[:] = arry[: J] + temp_1  \n",
    "    return arry  \n",
    "   \n",
    "   \n",
    "# Driver function to test above function  \n",
    "arry = [1, 3, 5, 7, 9, 11, 13, 15]  \n",
    "print(\"Array befpore Rotate:\",arry)\n",
    "print (\"Array after Rotation by 4 elements is: \", end = ' ')  \n",
    "print (rotate_array1(arry, len(arry), 4))  "
   ]
  },
  {
   "cell_type": "code",
   "execution_count": 10,
   "metadata": {},
   "outputs": [
    {
     "name": "stdout",
     "output_type": "stream",
     "text": [
      "Array Before Split or move [12, 10, 5, 6, 52, 36]\n",
      "5 6 52 36 12 10 "
     ]
    }
   ],
   "source": [
    "### 4. Write a Python Program to Split the array and add the first part to the end?\n",
    "\n",
    "def splitArr(arr, n, k):\n",
    "\tfor i in range(0, k):\n",
    "\t\tx = arr[0]\n",
    "\t\tfor j in range(0, n-1):\n",
    "\t\t\tarr[j] = arr[j + 1]\n",
    "\t\t\n",
    "\t\tarr[n-1] = x\n",
    "\t\t\n",
    "\n",
    "arr = [12, 10, 5, 6, 52, 36]\n",
    "print(\"Array Before Split or move\",arr)\n",
    "n = len(arr)\n",
    "position = 2\n",
    "\n",
    "splitArr(arr, n, position)\n",
    "\n",
    "for i in range(0, n):\n",
    "\tprint(arr[i], end = ' ')\n",
    "\n"
   ]
  },
  {
   "cell_type": "code",
   "execution_count": 13,
   "metadata": {},
   "outputs": [
    {
     "name": "stdout",
     "output_type": "stream",
     "text": [
      "True\n",
      "False\n",
      "True\n",
      "True\n"
     ]
    }
   ],
   "source": [
    "### 5. Write a Python Program to check if given array is Monotonic?\n",
    "def ismonotone(a):\n",
    "    n=len(a) #size of array\n",
    "    if n==1:\n",
    "        return True\n",
    "    else:\n",
    "        #check for monotone behaviour\n",
    "        if all(a[i]>=a[i+1] for i in range(0,n-1) or a[i]<=a[i+1] for i in range(0,n-1)):\n",
    "            return True\n",
    "        else:\n",
    "            return False\n",
    "\n",
    "A = [6, 5, 4, 2]\n",
    "print(ismonotone(A))\n",
    "b = [6, 2, 4, 2]\n",
    "print(ismonotone(b))\n",
    "c=[4,3,2]\n",
    "print(ismonotone(c))\n",
    "d=[1]\n",
    "print(ismonotone(d))\n",
    "  \n",
    "# Take help of GFG   "
   ]
  },
  {
   "cell_type": "code",
   "execution_count": null,
   "metadata": {},
   "outputs": [],
   "source": []
  }
 ],
 "metadata": {
  "kernelspec": {
   "display_name": "Python 3.10.7 64-bit",
   "language": "python",
   "name": "python3"
  },
  "language_info": {
   "codemirror_mode": {
    "name": "ipython",
    "version": 3
   },
   "file_extension": ".py",
   "mimetype": "text/x-python",
   "name": "python",
   "nbconvert_exporter": "python",
   "pygments_lexer": "ipython3",
   "version": "3.10.7"
  },
  "orig_nbformat": 4,
  "vscode": {
   "interpreter": {
    "hash": "0d72b21489300652f2337cd7f80c57cc00ce6bbc92cf98d285c178d0a8ced433"
   }
  }
 },
 "nbformat": 4,
 "nbformat_minor": 2
}
