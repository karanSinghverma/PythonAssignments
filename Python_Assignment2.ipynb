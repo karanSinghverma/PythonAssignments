{
 "cells": [
  {
   "cell_type": "code",
   "execution_count": null,
   "metadata": {},
   "outputs": [],
   "source": [
    "### 1. Write a Python program to convert kilometers to miles?\n",
    "y=0.621371    ### 1 kilometer in mile is equal \n",
    "x=int(input(\"Enter kilometers to convert\"))\n",
    "def converter(x,y):\n",
    "    print(x,\"Kilometer is equal to \",(x*y),\"Miles\")\n",
    "\n",
    "converter(x, y) "
   ]
  },
  {
   "cell_type": "code",
   "execution_count": null,
   "metadata": {},
   "outputs": [],
   "source": [
    "### 2.Write a Python program to convert Celsius to Fahrenheit?\n",
    "C=int(input(\"Enter temperature in Celsius : \"))\n",
    "def tempinCelsius(C):\n",
    "    y=(C * 9/5) + 32\n",
    "    print(\"temperature in faherheit : \",y)\n",
    "def tempinfaherheit(z):\n",
    "    p=(z-32)*5/9\n",
    "    print(\"temperature in celsius\",p)   \n",
    "\n",
    "tempinCelsius(C)\n",
    "tempinfaherheit(2) "
   ]
  },
  {
   "cell_type": "code",
   "execution_count": null,
   "metadata": {},
   "outputs": [],
   "source": [
    "### 3. Write a Python program to display calendar?\n",
    "import calendar\n",
    "yy=2022\n",
    "mm=12\n",
    "print(calendar.month(yy,mm))"
   ]
  },
  {
   "cell_type": "code",
   "execution_count": 25,
   "metadata": {},
   "outputs": [
    {
     "name": "stdout",
     "output_type": "stream",
     "text": [
      "Gernal form of Quadratic equation ax**2+bx+c=0\n",
      "1\n",
      "Solution of the quadratic Equation is : (-2+0j) And \n",
      " (-4+0j)\n"
     ]
    }
   ],
   "source": [
    "### 4. Write a Python program to solve quadratic equation?\n",
    "import cmath    #For maths functions\n",
    "print(\"Gernal form of Quadratic equation ax**2+bx+c=0\")\n",
    "a=int(input(\"first cofficient   A=\"))\n",
    "b=int(input(\"Second cofficient  B=\"))\n",
    "c=int(input(\"Third cofficient   C=\"))\n",
    "d=b**2-4*a*c\n",
    "print(d)\n",
    "sol1=(-b+cmath.sqrt(d))/2*a\n",
    "sol2=(-b-cmath.sqrt(d))/2*a\n",
    "print(\"Solution of the quadratic Equation is :\",sol1,\"And \\n\",sol2)\n",
    "\n",
    "\n",
    "# inputa=2,b=3,c=1"
   ]
  },
  {
   "cell_type": "code",
   "execution_count": null,
   "metadata": {},
   "outputs": [],
   "source": [
    "### 5. Write a Python program to swap two variables without temp variable?\n",
    "def Swap(a,b):\n",
    "        print(\"values before Swap : \",a,\" \",b )\n",
    "        a=a+b\n",
    "        b=a-b\n",
    "        a=a-b\n",
    "        print(\"values after Swaping : \",a,\" \" ,b )\n",
    "x=int(input(\"Enter number First : \"))\n",
    "y=int(input(\"Enter number second : \"))\n",
    "Swap(x,y)"
   ]
  }
 ],
 "metadata": {
  "kernelspec": {
   "display_name": "Python 3.10.7 64-bit",
   "language": "python",
   "name": "python3"
  },
  "language_info": {
   "codemirror_mode": {
    "name": "ipython",
    "version": 3
   },
   "file_extension": ".py",
   "mimetype": "text/x-python",
   "name": "python",
   "nbconvert_exporter": "python",
   "pygments_lexer": "ipython3",
   "version": "3.10.7"
  },
  "orig_nbformat": 4,
  "vscode": {
   "interpreter": {
    "hash": "0d72b21489300652f2337cd7f80c57cc00ce6bbc92cf98d285c178d0a8ced433"
   }
  }
 },
 "nbformat": 4,
 "nbformat_minor": 2
}
