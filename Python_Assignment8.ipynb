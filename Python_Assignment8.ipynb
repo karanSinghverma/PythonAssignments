{
 "cells": [
  {
   "cell_type": "code",
   "execution_count": 19,
   "metadata": {},
   "outputs": [
    {
     "name": "stdout",
     "output_type": "stream",
     "text": [
      "Matrix before addition\n",
      "[[1 2 3]\n",
      " [4 5 6]]\n",
      "[[6 5 4]\n",
      " [3 2 1]]\n",
      "Matrix after addition\n",
      "[[7 7 7]\n",
      " [7 7 7]]\n"
     ]
    }
   ],
   "source": [
    "### 1. Write a Python Program to Add Two Matrices?\n",
    "import numpy as np\n",
    "arr=np.array([[1,2,3],[4,5,6]])\n",
    "arr1=np.array([[6,5,4],[3,2,1]])\n",
    "print(\"Matrix before addition\")\n",
    "print(arr)\n",
    "print(arr1)\n",
    "print(\"Matrix after addition\")\n",
    "sum=np.array(arr)+np.array(arr1)\n",
    "print(sum)\n",
    "\n",
    "\n"
   ]
  },
  {
   "cell_type": "code",
   "execution_count": 20,
   "metadata": {},
   "outputs": [
    {
     "name": "stdout",
     "output_type": "stream",
     "text": [
      "[[ 84 112  54  15]\n",
      " [ 74  97  73  14]\n",
      " [119 157 112  23]]\n"
     ]
    }
   ],
   "source": [
    "### 2. Write a Python Program to Multiply Two Matrices?\n",
    "matrix1 = [[6, 7, 3],\n",
    "         [4, 5, 6],\n",
    "         [7, 8, 9]]\n",
    " \n",
    "# take a 3x4 matrix\n",
    "matrix2= [[5, 8, 1, 2],\n",
    "         [6, 7, 3, 0],\n",
    "         [4, 5, 9, 1]]\n",
    "matrixres=0\n",
    "matrixres=np.dot(matrix1,matrix2) \n",
    "print(matrixres)        \n",
    " "
   ]
  },
  {
   "cell_type": "code",
   "execution_count": 16,
   "metadata": {},
   "outputs": [
    {
     "name": "stdout",
     "output_type": "stream",
     "text": [
      "The transpose of matrix1 is: \n",
      "[6, 4, 7]\n",
      "[7, 5, 8]\n",
      "[3, 6, 9]\n"
     ]
    }
   ],
   "source": [
    "### 3. Write a Python Program to Transpose a Matrix?\n",
    "import numpy\n",
    "matrix1 = [[6, 7, 3],\n",
    "         [4, 5, 6],\n",
    "         [7, 8, 9]]\n",
    "transpose=[[0,0,0],\n",
    "        [0,0,0],\n",
    "        [0,0,0]]\n",
    "for i in range(len(matrix1)):\n",
    "    for j in range(len(matrix1[0])):\n",
    "        transpose[j][i]=matrix1[i][j]  \n",
    "print(\"The transpose of matrix1 is: \")  \n",
    "for res in transpose:    \n",
    "   print(res)            "
   ]
  },
  {
   "cell_type": "code",
   "execution_count": 21,
   "metadata": {},
   "outputs": [
    {
     "name": "stdout",
     "output_type": "stream",
     "text": [
      "i\n",
      "india\n",
      "love\n"
     ]
    }
   ],
   "source": [
    "### 4. Write a Python Program to Sort Words in Alphabetic Order?\n",
    "character = input(\"Enter a string: \")\n",
    "words = character.split()\n",
    "words.sort()\n",
    "for word in words:\n",
    "   print(word)"
   ]
  },
  {
   "cell_type": "code",
   "execution_count": 18,
   "metadata": {},
   "outputs": [
    {
     "name": "stdout",
     "output_type": "stream",
     "text": [
      "The original string is : FSDA, is best : for ! grow rich ;\n",
      "The string after punctuation filter : FSDA is best  for  grow rich \n"
     ]
    }
   ],
   "source": [
    "### 5. Write a Python Program to Remove Punctuation From a String?\n",
    "test_str = \"FSDA, is best : for ! grow rich ;\"\n",
    "print(\"The original string is : \" + test_str)\n",
    "punc = '''!()-[]{};:'\"\\,<>./?@#$%^&*_~'''\n",
    "for ele in test_str:\n",
    "\tif ele in punc:\n",
    "\t\ttest_str = test_str.replace(ele, \"\")\n",
    "print(\"The string after punctuation filter : \" + test_str)\n"
   ]
  },
  {
   "cell_type": "code",
   "execution_count": null,
   "metadata": {},
   "outputs": [],
   "source": []
  }
 ],
 "metadata": {
  "kernelspec": {
   "display_name": "Python 3.10.7 64-bit",
   "language": "python",
   "name": "python3"
  },
  "language_info": {
   "codemirror_mode": {
    "name": "ipython",
    "version": 3
   },
   "file_extension": ".py",
   "mimetype": "text/x-python",
   "name": "python",
   "nbconvert_exporter": "python",
   "pygments_lexer": "ipython3",
   "version": "3.10.7"
  },
  "orig_nbformat": 4,
  "vscode": {
   "interpreter": {
    "hash": "0d72b21489300652f2337cd7f80c57cc00ce6bbc92cf98d285c178d0a8ced433"
   }
  }
 },
 "nbformat": 4,
 "nbformat_minor": 2
}
