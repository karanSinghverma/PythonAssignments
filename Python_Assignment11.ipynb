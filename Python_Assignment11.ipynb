{
 "cells": [
  {
   "cell_type": "code",
   "execution_count": 1,
   "metadata": {},
   "outputs": [
    {
     "name": "stdout",
     "output_type": "stream",
     "text": [
      "['name', 'karan', 'Verma']\n"
     ]
    }
   ],
   "source": [
    "### 1. Write a Python program to find words which are greater than given length k?\n",
    "def stri(k, str):\n",
    "\t\n",
    "\tstring = []\n",
    "\ttext = str.split(\" \")\n",
    "\tfor x in text:\n",
    "\t\tif len(x) > k:\n",
    "\t\t    string.append(x)\n",
    "\treturn string\n",
    "k = 3\n",
    "str =\"My name is karan Verma\"\n",
    "print(stri(k, str))\n"
   ]
  },
  {
   "cell_type": "code",
   "execution_count": 3,
   "metadata": {},
   "outputs": [
    {
     "name": "stdout",
     "output_type": "stream",
     "text": [
      "ythonisgood\n"
     ]
    }
   ],
   "source": [
    "### 2. Write a Python program for removing i-th character from a string?\n",
    "def remove_char(s, i):\n",
    "    a = s[ : i]\n",
    "    b = s[i + 1: ]\n",
    "\n",
    "    return a+b\n",
    "\n",
    "string = \"Pythonisgood\"\n",
    "i = 1\n",
    "print(remove_char(string,i-1))"
   ]
  },
  {
   "cell_type": "code",
   "execution_count": 4,
   "metadata": {},
   "outputs": [
    {
     "name": "stdout",
     "output_type": "stream",
     "text": [
      "['Geeks', 'for', 'Geeks']\n"
     ]
    }
   ],
   "source": [
    "### 3. Write a Python program to split and join a string?\n",
    "s = 'Geeks for Geeks'\n",
    "print(s.split(\" \"))\n"
   ]
  },
  {
   "cell_type": "code",
   "execution_count": 6,
   "metadata": {},
   "outputs": [
    {
     "name": "stdout",
     "output_type": "stream",
     "text": [
      "The String is not a binary string\n"
     ]
    }
   ],
   "source": [
    "### 4. Write a Python to check if a given string is binary string or not?\n",
    "myStr =  input('Enter the binary string : ')\n",
    "flag = True\n",
    "for char in myStr :\n",
    "    if(char == '0' or char == '1'):\n",
    "       continue \n",
    "    else :\n",
    "        flag = False\n",
    "        print(\"The String is not a binary string\")\n",
    "        break\n",
    "    \n",
    "if(flag):\n",
    "    print(\"The String is binary string\")"
   ]
  },
  {
   "cell_type": "code",
   "execution_count": 7,
   "metadata": {},
   "outputs": [
    {
     "name": "stdout",
     "output_type": "stream",
     "text": [
      "['Learning', 'from']\n"
     ]
    }
   ],
   "source": [
    "### 5. Write a Python program to find uncommon words from two Strings?\n",
    "def UncommonWords(A, B):\n",
    "\tA=A.split()\n",
    "\tB=B.split()\n",
    "\tx=[]\n",
    "\tfor i in A:\n",
    "\t\tif i not in B:\n",
    "\t\t\tx.append(i)\n",
    "\tfor i in B:\n",
    "\t\tif i not in A:\n",
    "\t\t\tx.append(i)\n",
    "\tx=list(set(x))\n",
    "\treturn x\n",
    "A = \"Geeks for Geeks\"\n",
    "B = \"Learning from Geeks for Geeks\"\n",
    "print(UncommonWords(A, B))\n"
   ]
  },
  {
   "cell_type": "code",
   "execution_count": 8,
   "metadata": {},
   "outputs": [
    {
     "name": "stdout",
     "output_type": "stream",
     "text": [
      "The duplicate characters are ['a', 'n']\n"
     ]
    }
   ],
   "source": [
    "### 6. Write a Python to find all duplicate characters in string?\n",
    "string = input()\n",
    "dups={}\n",
    "for x in string:\n",
    "  if x not in dups:\n",
    "    dups[x]=0\n",
    "  else:\n",
    "    dups[x]+=1\n",
    "output=[]\n",
    "for keys,vals in dups.items():\n",
    "  if vals>0:\n",
    "    output.append(keys)\n",
    "print('The duplicate characters are {}'.format(output))"
   ]
  },
  {
   "cell_type": "code",
   "execution_count": 9,
   "metadata": {},
   "outputs": [
    {
     "name": "stdout",
     "output_type": "stream",
     "text": [
      "Hello15\n",
      "string is accepted\n"
     ]
    }
   ],
   "source": [
    "### 7. Write a Python Program to check if a string contains any special character?\n",
    "import re\n",
    "\n",
    "def find(string):\n",
    "    special_char=re.compile('[@_!$%^&*()<>?/\\|}{~:]#')\n",
    "    \n",
    "    if special_char.search(string) == None:\n",
    "        return \"string is accepted\"\n",
    "    else:\n",
    "        return \"string not accpeted\"\n",
    "   \n",
    "s=\"Hello15\"\n",
    "print(s)\n",
    "print(find(s))"
   ]
  },
  {
   "cell_type": "code",
   "execution_count": null,
   "metadata": {},
   "outputs": [],
   "source": []
  }
 ],
 "metadata": {
  "kernelspec": {
   "display_name": "Python 3",
   "language": "python",
   "name": "python3"
  },
  "language_info": {
   "codemirror_mode": {
    "name": "ipython",
    "version": 3
   },
   "file_extension": ".py",
   "mimetype": "text/x-python",
   "name": "python",
   "nbconvert_exporter": "python",
   "pygments_lexer": "ipython3",
   "version": "3.10.7"
  },
  "orig_nbformat": 4,
  "vscode": {
   "interpreter": {
    "hash": "0d72b21489300652f2337cd7f80c57cc00ce6bbc92cf98d285c178d0a8ced433"
   }
  }
 },
 "nbformat": 4,
 "nbformat_minor": 2
}
