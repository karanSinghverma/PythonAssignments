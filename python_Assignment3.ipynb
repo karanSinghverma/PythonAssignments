{
 "cells": [
  {
   "cell_type": "code",
   "execution_count": 2,
   "metadata": {},
   "outputs": [
    {
     "name": "stdout",
     "output_type": "stream",
     "text": [
      "The Number is Positive:  3\n"
     ]
    }
   ],
   "source": [
    "### 1. Write a Python Program to Check if a Number is Positive, Negative or Zero?\n",
    "x=int(input(\"Enter the number you want to check: \"))\n",
    "def PosNeg(a):\n",
    "    if(a==0):\n",
    "        print(\"Zero: \",a)\n",
    "    elif(a>0):\n",
    "        print(\"The Number is Positive: \",a)\n",
    "    elif(a<0):\n",
    "        print(\"The Number is Negative: \",a)\n",
    "PosNeg(x) \n",
    "\n",
    "#input --> 3"
   ]
  },
  {
   "cell_type": "code",
   "execution_count": 8,
   "metadata": {},
   "outputs": [
    {
     "name": "stdout",
     "output_type": "stream",
     "text": [
      "The Number is Odd:  5\n"
     ]
    }
   ],
   "source": [
    "### 2. Write a Python Program to Check if a Number is Odd or Even?\n",
    "num=int(input(\"Enter the number: \"))\n",
    "def oddeven(a):\n",
    "    if(a==0):\n",
    "        print(\"The number is Zero: \",a)\n",
    "    elif(a<=0):\n",
    "        print(\"number is Negative again enter positive number: \",a)    \n",
    "    elif(a%2==0):\n",
    "        print(\"The Number is Even: \",a)\n",
    "    else:\n",
    "        print(\"The Number is Odd: \",a)\n",
    "oddeven(num) \n",
    "\n",
    "#input 0\n",
    "# 2\n",
    "# 5"
   ]
  },
  {
   "cell_type": "code",
   "execution_count": 14,
   "metadata": {},
   "outputs": [
    {
     "name": "stdout",
     "output_type": "stream",
     "text": [
      "1996 Is a leap year:\n"
     ]
    }
   ],
   "source": [
    "### 3. Write a Python Program to Check Leap Year?\n",
    "year=int(input(\"Enter the year: \"))\n",
    "def leapyear(x):\n",
    "    if(x%4==0 and (not(x%100==0))) or(x%400==0):\n",
    "        print(x,\"Is a leap year:\")\n",
    "    else:\n",
    "        print(x,\"Is not a leap year:\")    \n",
    "leapyear(year)\n",
    "\n",
    "# input 1996        "
   ]
  },
  {
   "cell_type": "code",
   "execution_count": null,
   "metadata": {},
   "outputs": [],
   "source": [
    "### 4. Write a Python Program to Check Prime Number?\n",
    "number= int(input(\"Enter the number to check it is prime or not:\"))\n",
    "def primee(n):\n",
    "    if(n==1):\n",
    "         print(n,\"Is not prime number:\")\n",
    "    elif(n==2):\n",
    "        print(n,\"Is prime number:\")\n",
    "    elif(n%2==1):\n",
    "        print(n,\"Is prime number:\")\n",
    "    else:\n",
    "        print(n,\"Is not prime number :\")\n",
    "primee(number) \n",
    "\n",
    "\n",
    "#input 8    \n",
    "   "
   ]
  },
  {
   "cell_type": "code",
   "execution_count": null,
   "metadata": {},
   "outputs": [],
   "source": [
    "### 5. Write a Python Program to Print all Prime Numbers in an Interval of 1-10000?\n",
    "for i in range(1,100000):\n",
    "    if(i==1 or i%2==1 or i==2):\n",
    "         print(i)\n",
    "    "
   ]
  },
  {
   "cell_type": "code",
   "execution_count": null,
   "metadata": {},
   "outputs": [],
   "source": []
  }
 ],
 "metadata": {
  "kernelspec": {
   "display_name": "Python 3.10.7 64-bit",
   "language": "python",
   "name": "python3"
  },
  "language_info": {
   "codemirror_mode": {
    "name": "ipython",
    "version": 3
   },
   "file_extension": ".py",
   "mimetype": "text/x-python",
   "name": "python",
   "nbconvert_exporter": "python",
   "pygments_lexer": "ipython3",
   "version": "3.10.7"
  },
  "orig_nbformat": 4,
  "vscode": {
   "interpreter": {
    "hash": "0d72b21489300652f2337cd7f80c57cc00ce6bbc92cf98d285c178d0a8ced433"
   }
  }
 },
 "nbformat": 4,
 "nbformat_minor": 2
}
