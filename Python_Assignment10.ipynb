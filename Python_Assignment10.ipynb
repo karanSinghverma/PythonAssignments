{
 "cells": [
  {
   "cell_type": "code",
   "execution_count": 1,
   "metadata": {},
   "outputs": [
    {
     "name": "stdout",
     "output_type": "stream",
     "text": [
      "Sum of ele in List is:  55\n"
     ]
    }
   ],
   "source": [
    "### 1. Write a Python program to find sum of elements in list?\n",
    "myList=[1,2,3,4,5,6,7,8,9,10]\n",
    "sum=0\n",
    "for x in myList:\n",
    "    sum=sum+x;\n",
    "print(\"Sum of ele in List is: \",sum)    "
   ]
  },
  {
   "cell_type": "code",
   "execution_count": 5,
   "metadata": {},
   "outputs": [
    {
     "name": "stdout",
     "output_type": "stream",
     "text": [
      "1\n",
      "2\n",
      "6\n",
      "24\n",
      "120\n",
      "720\n",
      "5040\n",
      "40320\n",
      "362880\n",
      "3628800\n",
      "Product of all the elements in list:  3628800\n"
     ]
    }
   ],
   "source": [
    "### 2. Write a Python program to  Multiply all numbers in the list?\n",
    "thisList=[1,2,3,4,5,6,7,8,9,10]\n",
    "product=1\n",
    "for i in thisList:\n",
    "    product=product*i;\n",
    "    print(product)\n",
    "print(\"Product of all the elements in list: \",product)    "
   ]
  },
  {
   "cell_type": "code",
   "execution_count": 9,
   "metadata": {},
   "outputs": [
    {
     "name": "stdout",
     "output_type": "stream",
     "text": [
      "smallest NUmber in list is: 1\n"
     ]
    }
   ],
   "source": [
    "### 3. Write a Python program to find smallest number in a list?\n",
    "myList=[5,8,9,7,3,4,2,1,6,89,74654,10,1087]\n",
    "myList.sort()\n",
    "print(\"Smallest NUmber in list is:\",myList[0])"
   ]
  },
  {
   "cell_type": "code",
   "execution_count": 10,
   "metadata": {},
   "outputs": [
    {
     "name": "stdout",
     "output_type": "stream",
     "text": [
      "Largest NUmber in list is: 74654\n"
     ]
    }
   ],
   "source": [
    "### 4. Write a Python program to find largest number in a list?\n",
    "list=[5,8,9,7,3,4,2,1,6,89,74654,10,1087]\n",
    "myList.sort()\n",
    "print(\"Largest NUmber in list is:\",myList[-1])"
   ]
  },
  {
   "cell_type": "code",
   "execution_count": 11,
   "metadata": {},
   "outputs": [
    {
     "name": "stdout",
     "output_type": "stream",
     "text": [
      "second Largest Number in list is: 1087\n"
     ]
    }
   ],
   "source": [
    "### 5. Write a Python program to find second largest number in a list?\n",
    "number=[5,8,9,7,3,4,2,1,6,89,74654,10,1087]\n",
    "myList.sort()\n",
    "print(\"second Largest Number in list is:\",myList[-2])"
   ]
  },
  {
   "cell_type": "code",
   "execution_count": 13,
   "metadata": {},
   "outputs": [
    {
     "name": "stdout",
     "output_type": "stream",
     "text": [
      "[298, 900, 1000, 3579]\n"
     ]
    }
   ],
   "source": [
    "### 6. Write a Python program to find N largest elements from a list?\n",
    "l = [1000,298,3579,100,200,-45,900]\n",
    "n = int(input(\"Emter the N number between 0 to 6:\"))\n",
    " \n",
    "l.sort()\n",
    "print(l[-n:])"
   ]
  },
  {
   "cell_type": "code",
   "execution_count": 14,
   "metadata": {},
   "outputs": [
    {
     "name": "stdout",
     "output_type": "stream",
     "text": [
      "6\n",
      "10\n",
      "4\n"
     ]
    }
   ],
   "source": [
    "### 7. Write a Python program to print even numbers in a list?\n",
    "test_list = [5, 6, 10, 4, 7, 1, 19]\n",
    "for n in test_list:\n",
    "    if(n%2==0):\n",
    "        print(n)"
   ]
  },
  {
   "cell_type": "code",
   "execution_count": 15,
   "metadata": {},
   "outputs": [
    {
     "name": "stdout",
     "output_type": "stream",
     "text": [
      "5\n",
      "7\n",
      "1\n",
      "19\n"
     ]
    }
   ],
   "source": [
    "### 8. Write a Python program to print odd numbers in a List?\n",
    "test_list = [5, 6, 10, 4, 7, 1, 19]\n",
    "for n in test_list:\n",
    "    if(n%2!=0):\n",
    "        print(n)"
   ]
  },
  {
   "cell_type": "code",
   "execution_count": 24,
   "metadata": {},
   "outputs": [
    {
     "name": "stdout",
     "output_type": "stream",
     "text": [
      "Original list:\n",
      "[2, 6, 41, [], 85, 0, [], 3, 7, 6, 10]\n",
      "list After remove empty list:\n",
      " [2, 6, 41, 85, 0, 3, 7, 6, 10]\n"
     ]
    }
   ],
   "source": [
    "### 9. Write a Python program to Remove empty List from List?\n",
    "list1 = [2, 6, 41, [], 85, 0, [], 3, 7, 6, 10]\n",
    "print(\"Original list:\")\n",
    "print(list1)\n",
    "list2 = [x for x in list1 if x!=[]]\n",
    "print(\"list After remove empty list:\\n\",list2)\n"
   ]
  },
  {
   "cell_type": "code",
   "execution_count": 25,
   "metadata": {},
   "outputs": [
    {
     "name": "stdout",
     "output_type": "stream",
     "text": [
      "[10, 22, 44, 23, 4]\n",
      "[10, 22, 44, 23, 4]\n"
     ]
    }
   ],
   "source": [
    "### 10. Write a Python program to Cloning or Copying a list?\n",
    "original_list = [10, 22, 44, 23, 4]\n",
    "new_list =original_list.copy()\n",
    "print(original_list)\n",
    "print(new_list)"
   ]
  },
  {
   "cell_type": "code",
   "execution_count": 27,
   "metadata": {},
   "outputs": [
    {
     "name": "stdout",
     "output_type": "stream",
     "text": [
      "8 occurrences 5 times\n"
     ]
    }
   ],
   "source": [
    "### 11. Write a Python program to Count occurrences of an element in a list?\n",
    "\n",
    "def occure(list1,x):\n",
    "    count=0\n",
    "    for n in list1:\n",
    "        if(n==x):\n",
    "            count+=1\n",
    "    return count \n",
    "list = [8, 6, 8, 10, 8, 20, 10, 8, 8]  \n",
    "x=8         \n",
    "print(x,\"occurrences\",occure(list,x),\"times\")"
   ]
  },
  {
   "cell_type": "code",
   "execution_count": null,
   "metadata": {},
   "outputs": [],
   "source": []
  }
 ],
 "metadata": {
  "kernelspec": {
   "display_name": "Python 3",
   "language": "python",
   "name": "python3"
  },
  "language_info": {
   "codemirror_mode": {
    "name": "ipython",
    "version": 3
   },
   "file_extension": ".py",
   "mimetype": "text/x-python",
   "name": "python",
   "nbconvert_exporter": "python",
   "pygments_lexer": "ipython3",
   "version": "3.10.7"
  },
  "orig_nbformat": 4,
  "vscode": {
   "interpreter": {
    "hash": "0d72b21489300652f2337cd7f80c57cc00ce6bbc92cf98d285c178d0a8ced433"
   }
  }
 },
 "nbformat": 4,
 "nbformat_minor": 2
}
