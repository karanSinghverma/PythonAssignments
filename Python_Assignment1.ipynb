{
 "cells": [
  {
   "cell_type": "code",
   "execution_count": 1,
   "metadata": {},
   "outputs": [
    {
     "name": "stdout",
     "output_type": "stream",
     "text": [
      "Hello World !\n"
     ]
    }
   ],
   "source": [
    "# 1. Write a Python program to print \"Hello Python.\n",
    "def World():\n",
    "    print(\"Hello World !\")\n",
    "World()    #calling function"
   ]
  },
  {
   "cell_type": "code",
   "execution_count": 4,
   "metadata": {},
   "outputs": [
    {
     "name": "stdout",
     "output_type": "stream",
     "text": [
      "Addition of Numbers is:  9\n",
      "Division of Numbers is:  0.5\n"
     ]
    }
   ],
   "source": [
    "# 2. Write a Python program to do arithmetical operations addition and division.\n",
    "def Add(x,y):\n",
    "    print(\"Addition of Numbers is: \", x+y)\n",
    "def div(p,q):\n",
    "    print(\"Division of Numbers is: \", x/y) \n",
    "\n",
    "x=int(input(\"Enter First Number: \"))\n",
    "y=int(input(\"Enter Second Number: \"))\n",
    "Add(x,y)\n",
    "div(x,y)"
   ]
  },
  {
   "cell_type": "code",
   "execution_count": 1,
   "metadata": {},
   "outputs": [
    {
     "name": "stdout",
     "output_type": "stream",
     "text": [
      "Area of triangle is :  6.28318530718\n"
     ]
    }
   ],
   "source": [
    "# 3. Write a Python program to find the area of a triangle.\n",
    "pi=3.14159265359\n",
    "def Formula(radius,pi):\n",
    "    print(\"Area of triangle is : \",(1/2*pi*radius*radius)   ) \n",
    "radius=int(input(\"Enter Radius of Triangle : \")    ) \n",
    "Formula(radius,pi)   "
   ]
  },
  {
   "cell_type": "code",
   "execution_count": 6,
   "metadata": {},
   "outputs": [
    {
     "name": "stdout",
     "output_type": "stream",
     "text": [
      "values before Swap :  3   6\n",
      "values after Swaping :  6   3\n"
     ]
    }
   ],
   "source": [
    "# 4. Write a Python program to swap two variables.\n",
    "def Swaping(a,b):\n",
    "        print(\"values before Swap : \",a,\" \",b )\n",
    "        temp=a\n",
    "        a=b\n",
    "        b=temp\n",
    "        print(\"values after Swaping : \",a,\" \" ,b )\n",
    "x=int(input(\"Enter number First : \"))\n",
    "y=int(input(\"Enter number second : \"))\n",
    "Swaping(x,y)"
   ]
  },
  {
   "cell_type": "code",
   "execution_count": 3,
   "metadata": {},
   "outputs": [
    {
     "name": "stdout",
     "output_type": "stream",
     "text": [
      "26\n"
     ]
    }
   ],
   "source": [
    "# 5. Write a Python program to generate a random number.\n",
    "import random\n",
    "x=random.randint(0,100)\n",
    "print(x)"
   ]
  },
  {
   "cell_type": "code",
   "execution_count": null,
   "metadata": {},
   "outputs": [],
   "source": []
  }
 ],
 "metadata": {
  "kernelspec": {
   "display_name": "Python 3.10.7 64-bit",
   "language": "python",
   "name": "python3"
  },
  "language_info": {
   "codemirror_mode": {
    "name": "ipython",
    "version": 3
   },
   "file_extension": ".py",
   "mimetype": "text/x-python",
   "name": "python",
   "nbconvert_exporter": "python",
   "pygments_lexer": "ipython3",
   "version": "3.10.7"
  },
  "orig_nbformat": 4,
  "vscode": {
   "interpreter": {
    "hash": "0d72b21489300652f2337cd7f80c57cc00ce6bbc92cf98d285c178d0a8ced433"
   }
  }
 },
 "nbformat": 4,
 "nbformat_minor": 2
}
