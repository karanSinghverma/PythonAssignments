{
 "cells": [
  {
   "cell_type": "code",
   "execution_count": 21,
   "metadata": {},
   "outputs": [
    {
     "name": "stdout",
     "output_type": "stream",
     "text": [
      "factorial of 5  is  120\n"
     ]
    }
   ],
   "source": [
    "### 1. Write a Python Program to Find the Factorial of a Number?\n",
    "number=int(input(\"Enter the number: \"))\n",
    "def fact(n):\n",
    "    x=1\n",
    "    if(n==1 or n==2):\n",
    "        print(\"Factorial is :\",n)\n",
    "    elif(n>2):\n",
    "        for i in range(1,n+1):\n",
    "            x=x*i\n",
    "        print(\"factorial of\",n,\" is \",x)\n",
    "fact(number)  \n",
    "    \n",
    "    \n",
    "    #input -->5  "
   ]
  },
  {
   "cell_type": "code",
   "execution_count": 23,
   "metadata": {},
   "outputs": [
    {
     "name": "stdout",
     "output_type": "stream",
     "text": [
      "10 x 1 = 10\n",
      "10 x 2 = 20\n",
      "10 x 3 = 30\n",
      "10 x 4 = 40\n",
      "10 x 5 = 50\n",
      "10 x 6 = 60\n",
      "10 x 7 = 70\n",
      "10 x 8 = 80\n",
      "10 x 9 = 90\n",
      "10 x 10 = 100\n"
     ]
    }
   ],
   "source": [
    "### 2. Write a Python Program to Display the multiplication Table?\n",
    "number=int(input(\"Enter the number:\"))\n",
    "def table(x):\n",
    "    for i in range(1,x+1):\n",
    "        print(x,\"x\",i, \"=\",i*x)\n",
    "table(number) \n",
    "\n",
    "# input -->10"
   ]
  },
  {
   "cell_type": "code",
   "execution_count": 25,
   "metadata": {},
   "outputs": [
    {
     "name": "stdout",
     "output_type": "stream",
     "text": [
      "0\n",
      "1\n",
      "1\n",
      "2\n",
      "3\n",
      "5\n",
      "8\n",
      "13\n",
      "21\n",
      "34\n"
     ]
    }
   ],
   "source": [
    "### 3. Write a Python Program to Print the Fibonacci sequence?\n",
    "element=int(input(\"Enter the term require\"))\n",
    "def fibo(n):\n",
    "    if n <= 1:\n",
    "        return n\n",
    "    else:\n",
    "        return(fibo(n-1)+fibo(n-2))\n",
    "for i in range(element):\n",
    "    print(fibo(i))\n",
    "\n",
    "    # input-->10"
   ]
  },
  {
   "cell_type": "code",
   "execution_count": 49,
   "metadata": {},
   "outputs": [
    {
     "name": "stdout",
     "output_type": "stream",
     "text": [
      "371 Is an Armstrong Number\n"
     ]
    }
   ],
   "source": [
    "### 4. Write a Python Program to Check Armstrong Number?\n",
    "x=int(input(\"Enter any number to check\"))\n",
    "order = len(str(x))\n",
    "num=x\n",
    "sum=0\n",
    "while num>0:\n",
    "    q=num%10\n",
    "    sum+=q**order\n",
    "    num=num//10\n",
    "if(sum==x):    \n",
    "    print(sum,\"Is an Armstrong Number\") \n",
    "else:\n",
    "     print(num,\"Is not an Armstrong Number\")    \n",
    "\n",
    "# input -->153    "
   ]
  },
  {
   "cell_type": "code",
   "execution_count": 60,
   "metadata": {},
   "outputs": [
    {
     "name": "stdout",
     "output_type": "stream",
     "text": [
      "153\n",
      "370\n",
      "371\n"
     ]
    }
   ],
   "source": [
    "### 5. Write a Python Program to Find Armstrong Number in an Interval?\n",
    "start=int(input(\"Enter the starting number\"))\n",
    "last=int(input(\"Enter the last number\"))\n",
    "for x in range(start,last):\n",
    "    order = len(str(x))\n",
    "    num=x\n",
    "    sum=0\n",
    "    while num>0:\n",
    "        q=num%10\n",
    "        sum+=q**order\n",
    "        num=num//10\n",
    "    if(sum==x):    \n",
    "        print(sum) \n",
    "    \n",
    "\n",
    "    # input-->100,400"
   ]
  },
  {
   "cell_type": "code",
   "execution_count": 62,
   "metadata": {},
   "outputs": [
    {
     "name": "stdout",
     "output_type": "stream",
     "text": [
      "Sum of Natural Numbers is  55\n"
     ]
    }
   ],
   "source": [
    "### 6. Write a Python Program to Find the Sum of Natural Numbers?\n",
    "number=int(input(\"Enter the number\"))\n",
    "sum=0\n",
    "for i in range(1,number+1):\n",
    "    sum=sum+i\n",
    "print(\"Sum of Natural Numbers is \",sum)   \n",
    "\n",
    "\n",
    "# input-->10"
   ]
  },
  {
   "cell_type": "code",
   "execution_count": null,
   "metadata": {},
   "outputs": [],
   "source": []
  }
 ],
 "metadata": {
  "kernelspec": {
   "display_name": "Python 3.10.7 64-bit",
   "language": "python",
   "name": "python3"
  },
  "language_info": {
   "codemirror_mode": {
    "name": "ipython",
    "version": 3
   },
   "file_extension": ".py",
   "mimetype": "text/x-python",
   "name": "python",
   "nbconvert_exporter": "python",
   "pygments_lexer": "ipython3",
   "version": "3.10.7"
  },
  "orig_nbformat": 4,
  "vscode": {
   "interpreter": {
    "hash": "0d72b21489300652f2337cd7f80c57cc00ce6bbc92cf98d285c178d0a8ced433"
   }
  }
 },
 "nbformat": 4,
 "nbformat_minor": 2
}
