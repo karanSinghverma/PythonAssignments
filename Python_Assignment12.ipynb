{
 "cells": [
  {
   "cell_type": "code",
   "execution_count": 1,
   "metadata": {},
   "outputs": [
    {
     "name": "stdout",
     "output_type": "stream",
     "text": [
      "The original dictionary is :  {'A': [1, 3, 5, 4], 'B': [4, 6, 8, 10], 'C': [6, 12, 4, 8], 'D': [5, 7, 2]}\n",
      "The unique values list is :  [1, 2, 3, 4, 5, 6, 7, 8, 10, 12]\n"
     ]
    }
   ],
   "source": [
    "### 1. Write a Python program to Extract Unique values dictionary values?\n",
    "dict1 = {'A' : [1, 3, 5, 4],\n",
    "             'B' : [4, 6, 8, 10],\n",
    "             'C' : [6, 12, 4 ,8],\n",
    "             'D' : [5, 7, 2]}\n",
    "\n",
    "print(\"The original dictionary is : \" ,dict1)\n",
    "res = list(sorted({ele for val in dict1.values() for ele in val}))\n",
    "print(\"The unique values list is : \" , res) "
   ]
  },
  {
   "cell_type": "code",
   "execution_count": 16,
   "metadata": {},
   "outputs": [
    {
     "name": "stdout",
     "output_type": "stream",
     "text": [
      "Sum : 600\n"
     ]
    }
   ],
   "source": [
    "### 2. Write a Python program to find the sum of all items in a dictionary?\n",
    "def returnSum(dict):\n",
    " \n",
    "    sum = 0\n",
    "    for i in dict.values():\n",
    "        sum = sum + i\n",
    " \n",
    "    return sum\n",
    " \n",
    " \n",
    "# Driver Function\n",
    "dict = {'a': 100, 'b': 200, 'c': 300}\n",
    "print(\"Sum :\", returnSum(dict))"
   ]
  },
  {
   "cell_type": "code",
   "execution_count": 18,
   "metadata": {},
   "outputs": [
    {
     "name": "stdout",
     "output_type": "stream",
     "text": [
      "{'a': 10, 'b': 8, 'd': 6, 'c': 4}\n"
     ]
    }
   ],
   "source": [
    "### 3. Write a Python program to Merging two Dictionaries?\n",
    "def Merge(dict1, dict2):\n",
    "    res = {**dict1, **dict2}\n",
    "    return res\n",
    "     \n",
    "# Driver code\n",
    "di1 = {'a': 10, 'b': 8}\n",
    "di2 = {'d': 6, 'c': 4}\n",
    "di3 = Merge(di1, di2)\n",
    "print(di3)"
   ]
  },
  {
   "cell_type": "code",
   "execution_count": 9,
   "metadata": {},
   "outputs": [
    {
     "name": "stdout",
     "output_type": "stream",
     "text": [
      "The original dictionary is : {'month': [1, 2, 3], 'name': ['Jan', 'Feb', 'March']}\n"
     ]
    },
    {
     "ename": "TypeError",
     "evalue": "'dict' object is not callable",
     "output_type": "error",
     "traceback": [
      "\u001b[1;31m---------------------------------------------------------------------------\u001b[0m",
      "\u001b[1;31mTypeError\u001b[0m                                 Traceback (most recent call last)",
      "Cell \u001b[1;32mIn [9], line 4\u001b[0m\n\u001b[0;32m      2\u001b[0m test_dict \u001b[39m=\u001b[39m {\u001b[39m'\u001b[39m\u001b[39mmonth\u001b[39m\u001b[39m'\u001b[39m : [\u001b[39m1\u001b[39m, \u001b[39m2\u001b[39m, \u001b[39m3\u001b[39m],\u001b[39m'\u001b[39m\u001b[39mname\u001b[39m\u001b[39m'\u001b[39m : [\u001b[39m'\u001b[39m\u001b[39mJan\u001b[39m\u001b[39m'\u001b[39m, \u001b[39m'\u001b[39m\u001b[39mFeb\u001b[39m\u001b[39m'\u001b[39m, \u001b[39m'\u001b[39m\u001b[39mMarch\u001b[39m\u001b[39m'\u001b[39m]}\n\u001b[0;32m      3\u001b[0m \u001b[39mprint\u001b[39m(\u001b[39m\"\u001b[39m\u001b[39mThe original dictionary is : \u001b[39m\u001b[39m\"\u001b[39m \u001b[39m+\u001b[39m \u001b[39mstr\u001b[39m(test_dict))\n\u001b[1;32m----> 4\u001b[0m res \u001b[39m=\u001b[39m \u001b[39mdict\u001b[39;49m(\u001b[39mzip\u001b[39;49m(test_dict[\u001b[39m'\u001b[39;49m\u001b[39mmonth\u001b[39;49m\u001b[39m'\u001b[39;49m], test_dict[\u001b[39m'\u001b[39;49m\u001b[39mname\u001b[39;49m\u001b[39m'\u001b[39;49m]))\n\u001b[0;32m      5\u001b[0m \u001b[39mprint\u001b[39m(\u001b[39m\"\u001b[39m\u001b[39mFlattened dictionary : \u001b[39m\u001b[39m\"\u001b[39m \u001b[39m+\u001b[39m \u001b[39mstr\u001b[39m(res))\n",
      "\u001b[1;31mTypeError\u001b[0m: 'dict' object is not callable"
     ]
    }
   ],
   "source": [
    "### 4. Write a Python program to convert key-values list to flat dictionary?\n",
    "# test_dict = {'month' : [1, 2, 3],'name' : ['Jan', 'Feb', 'March']}\n",
    "# print(\"The original dictionary is : \" + str(test_dict))\n",
    "# res = dict(zip(test_dict['month'], test_dict['name']))\n",
    "# print(\"Flattened dictionary : \" + str(res))"
   ]
  },
  {
   "cell_type": "code",
   "execution_count": 7,
   "metadata": {},
   "outputs": [
    {
     "ename": "SyntaxError",
     "evalue": "invalid syntax (3359143121.py, line 12)",
     "output_type": "error",
     "traceback": [
      "\u001b[1;36m  Cell \u001b[1;32mIn [7], line 12\u001b[1;36m\u001b[0m\n\u001b[1;33m    Resultant Dictionary : OrderedDict([('han', '3'), ('kasav', '1'), ('kumar', '2')])\u001b[0m\n\u001b[1;37m              ^\u001b[0m\n\u001b[1;31mSyntaxError\u001b[0m\u001b[1;31m:\u001b[0m invalid syntax\n"
     ]
    }
   ],
   "source": [
    "### 5. Write a Python program to insertion at the beginning in OrderedDict?\n",
    "# from collections import OrderedDict\n",
    "\n",
    "# my_ordered_dict = OrderedDict([('William', '1'), ('Jassmine', '2'), ('karan', '4')])\n",
    "# print(\"The dictionary is :\")\n",
    "# print(my_ordered_dict)\n",
    "# my_ordered_dict.update({'Mark':'7'})\n",
    "# my_ordered_dict.move_to_end('Mark', last = False)\n",
    "\n",
    "# print(\"The resultant dictionary is : \")\n",
    "# print(my_ordered_dict)\n",
    "# Resultant Dictionary : OrderedDict([('han', '3'), ('kasav', '1'), ('kumar', '2')])\n",
    "# The dictionary is :\n",
    "# OrderedDict([('Will', '1'), ('komal', '2'), ('karan', '4')])\n",
    "# The resultant dictionary is : \n",
    "# OrderedDict([('william', '7'), ('Will', '1'), ('Jassmine', '2'), ('karan', '4')])"
   ]
  },
  {
   "cell_type": "code",
   "execution_count": 4,
   "metadata": {},
   "outputs": [
    {
     "name": "stdout",
     "output_type": "stream",
     "text": [
      "true\n"
     ]
    }
   ],
   "source": [
    "### 6. Write a Python program to check order of character in string using OrderedDict()?\n",
    "from collections import OrderedDict \n",
    "\n",
    "def checkOrder(input, pattern): \n",
    "    \n",
    "    dict = OrderedDict.fromkeys(input) \n",
    "\n",
    "    ptrlen = 0\n",
    "    for key,value in dict.items(): \n",
    "        if (key == pattern[ptrlen]): \n",
    "            ptrlen = ptrlen + 1\n",
    "\n",
    "        if (ptrlen == (len(pattern))): \n",
    "            return 'true'\n",
    "\n",
    "    return 'false'\n",
    " \n",
    "if __name__ == \"__main__\": \n",
    "    input = 'engineers rock'\n",
    "    pattern = 'er'\n",
    "    print (checkOrder(input,pattern)) \n",
    "# true"
   ]
  },
  {
   "cell_type": "code",
   "execution_count": 5,
   "metadata": {},
   "outputs": [
    {
     "name": "stdout",
     "output_type": "stream",
     "text": [
      "OrderedDict([('rajnish', '9'), ('ravi', '10'), ('sanjeev', '15'), ('suraj', '32'), ('yash', '2')])\n"
     ]
    },
    {
     "data": {
      "text/plain": [
       "OrderedDict([('rajnish', '9'),\n",
       "             ('ravi', '10'),\n",
       "             ('sanjeev', '15'),\n",
       "             ('suraj', '32'),\n",
       "             ('yash', '2')])"
      ]
     },
     "execution_count": 5,
     "metadata": {},
     "output_type": "execute_result"
    }
   ],
   "source": [
    "### 7. Write a Python program to sort Python Dictionaries by Key or Value?\n",
    "from collections import OrderedDict\n",
    "\n",
    "dict = {'ravi': '10', 'rajnish': '9','sanjeev': '15', 'yash': '2', 'suraj': '32'}\n",
    "\n",
    "dict1 = OrderedDict(sorted(dict.items()))\n",
    "print(dict1)\n",
    "OrderedDict([('rajnish', '9'), ('ravi', '10'), ('sanjeev', '15'), ('suraj', '32'), ('yash', '2')])"
   ]
  },
  {
   "cell_type": "code",
   "execution_count": null,
   "metadata": {},
   "outputs": [],
   "source": []
  }
 ],
 "metadata": {
  "kernelspec": {
   "display_name": "Python 3",
   "language": "python",
   "name": "python3"
  },
  "language_info": {
   "codemirror_mode": {
    "name": "ipython",
    "version": 3
   },
   "file_extension": ".py",
   "mimetype": "text/x-python",
   "name": "python",
   "nbconvert_exporter": "python",
   "pygments_lexer": "ipython3",
   "version": "3.10.7"
  },
  "orig_nbformat": 4,
  "vscode": {
   "interpreter": {
    "hash": "0d72b21489300652f2337cd7f80c57cc00ce6bbc92cf98d285c178d0a8ced433"
   }
  }
 },
 "nbformat": 4,
 "nbformat_minor": 2
}
