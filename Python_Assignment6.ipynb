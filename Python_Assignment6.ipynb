{
 "cells": [
  {
   "cell_type": "code",
   "execution_count": 1,
   "metadata": {},
   "outputs": [
    {
     "name": "stdout",
     "output_type": "stream",
     "text": [
      "0\n",
      "1\n",
      "1\n",
      "2\n",
      "3\n",
      "5\n",
      "8\n",
      "13\n",
      "21\n",
      "34\n",
      "55\n"
     ]
    }
   ],
   "source": [
    "### 1. Write a Python Program to Display Fibonacci Sequence Using Recursion?\n",
    "x=int(input(\"Enter the number\"))\n",
    "def fabro(n):\n",
    "    if(n==0 ):\n",
    "        return 0\n",
    "    elif( n==1 or n==2):\n",
    "        return 1   \n",
    "    else:\n",
    "        return fabro(n-1) +fabro(n-2)  \n",
    "for i in range(x+1):\n",
    "    print(fabro(i))\n",
    "        \n",
    "        # input-->10"
   ]
  },
  {
   "cell_type": "code",
   "execution_count": 23,
   "metadata": {},
   "outputs": [
    {
     "name": "stdout",
     "output_type": "stream",
     "text": [
      "factorial of 5 is: 120\n"
     ]
    }
   ],
   "source": [
    "### 2. Write a Python Program to Find Factorial of Number Using Recursion?\n",
    "\n",
    "num=int(input(\"Enter the number\"))\n",
    "def fact(x):\n",
    "    if(x==1 or x==2):\n",
    "        return x\n",
    "    else:    \n",
    "        return x*fact(x-1)\n",
    "print(\"factorial of\",num,\"is:\",fact(num))    \n",
    "\n",
    "# input-->5"
   ]
  },
  {
   "cell_type": "code",
   "execution_count": 22,
   "metadata": {},
   "outputs": [
    {
     "name": "stdout",
     "output_type": "stream",
     "text": [
      "BMI is: 21.80232558139535 kg/m2\n"
     ]
    }
   ],
   "source": [
    "### 3. Write a Python Program to calculate your Body Mass Index?\n",
    "\n",
    "weight=float(input(\"please enter your weight in KG:\"))\n",
    "height=float(input(\"Enter your height in Meters\"))\n",
    "BMI=weight/(height*height)\n",
    "print(\"BMI is:\",BMI,\"kg/m2\")\n",
    "\n",
    "# input\n",
    "# weight-->64.5\n",
    "# height-->1.72"
   ]
  },
  {
   "cell_type": "code",
   "execution_count": 9,
   "metadata": {},
   "outputs": [
    {
     "name": "stdout",
     "output_type": "stream",
     "text": [
      "Natural log of: 5.0 is 1.6094379124341003\n"
     ]
    }
   ],
   "source": [
    "### 4. Write a Python Program to calculate the natural logarithm of any number?\n",
    "import math\n",
    "n=float(input(\"Enter any natural number:\"))\n",
    "print(\"Natural log of\",n,\"is:\",math.log(n))"
   ]
  },
  {
   "cell_type": "code",
   "execution_count": 21,
   "metadata": {},
   "outputs": [
    {
     "name": "stdout",
     "output_type": "stream",
     "text": [
      "sum of first 4 terms is:  100\n"
     ]
    }
   ],
   "source": [
    "\n",
    "### 5. Write a Python Program for cube sum of first n natural numbers?\n",
    "terms=int(input(\"Enter number of terms you want to calculate:\"))\n",
    "sum=1\n",
    "def cubesum(x):\n",
    "    for i in range(1,x+1):\n",
    "      sum=int((i*(i+1)/2)*(i*(i+1)/2))\n",
    "    print(\"sum of first\",x,\"terms is: \",sum)   \n",
    "cubesum(terms) \n",
    "\n",
    "# input-->4"
   ]
  },
  {
   "cell_type": "code",
   "execution_count": null,
   "metadata": {},
   "outputs": [],
   "source": []
  }
 ],
 "metadata": {
  "kernelspec": {
   "display_name": "Python 3.10.7 64-bit",
   "language": "python",
   "name": "python3"
  },
  "language_info": {
   "codemirror_mode": {
    "name": "ipython",
    "version": 3
   },
   "file_extension": ".py",
   "mimetype": "text/x-python",
   "name": "python",
   "nbconvert_exporter": "python",
   "pygments_lexer": "ipython3",
   "version": "3.10.7"
  },
  "orig_nbformat": 4,
  "vscode": {
   "interpreter": {
    "hash": "0d72b21489300652f2337cd7f80c57cc00ce6bbc92cf98d285c178d0a8ced433"
   }
  }
 },
 "nbformat": 4,
 "nbformat_minor": 2
}
